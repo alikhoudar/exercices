{
 "cells": [
  {
   "cell_type": "markdown",
   "metadata": {},
   "source": [
    "## Lambda, Map, Reduce, Filter\n",
    "Map, Reduce et Filter sont trois (3) fonctions qui facilitent la programmation fonctionnelle"
   ]
  },
  {
   "cell_type": "code",
   "execution_count": 7,
   "metadata": {},
   "outputs": [
    {
     "name": "stdout",
     "output_type": "stream",
     "text": [
      "a = 25\n",
      "b = 25\n",
      "c = 36\n"
     ]
    }
   ],
   "source": [
    "# Lambda\n",
    "# Une fonction lambda est une petite fonction anonyme.\n",
    "# Une fonction lambda peut prendre un nombre quelconque d'arguments, \n",
    "# mais ne peut avoir qu'une seule expression.\n",
    "\n",
    "# Exemple:\n",
    "# Fonction standard\n",
    "def squared(x):\n",
    "    return x**2\n",
    "\n",
    "a = squared(5)\n",
    "print(f\"a = {a}\")\n",
    "\n",
    "# Function anonyme\n",
    "fn = lambda x: x**2\n",
    "\n",
    "b = fn(5)\n",
    "print(f\"b = {b}\")\n",
    "\n",
    "c = (lambda x: x**2)(6)\n",
    "print(f\"c = {c}\")\n"
   ]
  },
  {
   "cell_type": "code",
   "execution_count": 13,
   "metadata": {},
   "outputs": [
    {
     "name": "stdout",
     "output_type": "stream",
     "text": [
      "Sans la fonction map: [1, 4, 9, 16, 25, 36]\n",
      "Avec la fonction map: [1, 4, 9, 16, 25, 36]\n",
      "Avec la comprehension de liste: [1, 4, 9, 16, 25, 36, 49]\n"
     ]
    }
   ],
   "source": [
    "# Map\n",
    "# La fonction map applique une fonction à tous les éléments d'une liste\n",
    "# Elle prend deux (2) arguments:\n",
    "#    - Une fonction\n",
    "#    - Un iterable: liste, tuple, ...\n",
    "\n",
    "# Sans la fonction map\n",
    "numbers = [1, 2, 3, 4, 5, 6]\n",
    "squared = []\n",
    "\n",
    "for i in numbers:\n",
    "    squared.append(i**2)\n",
    "\n",
    "print(f\"Sans la fonction map: {squared}\")\n",
    "\n",
    "# Avec la function map\n",
    "squared = list(map(lambda x: x**2, numbers))\n",
    "\n",
    "print(f\"Avec la fonction map: {squared}\")\n",
    "\n",
    "# Compréhension de liste\n",
    "print(f\"Avec la comprehension de liste: {[(i+1)**2 for i in range(7)]}\")\n"
   ]
  },
  {
   "cell_type": "code",
   "execution_count": 18,
   "metadata": {},
   "outputs": [
    {
     "name": "stdout",
     "output_type": "stream",
     "text": [
      "Sans la fonction filter: [-5, -4, -3, -2, -1]\n",
      "Avec la fonction filter: [-5, -4, -3, -2, -1]\n",
      "Avec la comprehension de liste: [-5, -4, -3, -2, -1]\n"
     ]
    }
   ],
   "source": [
    "# Filter\n",
    "# La fonction filter crée une liste d'éléments pour lesquels une fonction renvoie vrai.\n",
    "# Comme la fonction map, elle prend aussi deux (2) arguments:\n",
    "#    - Une fonction\n",
    "#    - Un iterable: liste, tuple, ...\n",
    "\n",
    "# Exemple:\n",
    "\n",
    "nums = range(-5,5)\n",
    "negative_nums = []\n",
    "for i in nums:\n",
    "    if i < 0:\n",
    "        negative_nums.append(i)\n",
    "\n",
    "print(f\"Sans la fonction filter: {negative_nums}\")\n",
    "\n",
    "neg_nums = list(filter(lambda x: x < 0, nums))\n",
    "\n",
    "print(f\"Avec la fonction filter: {neg_nums}\")\n",
    "\n",
    "print(f\"Avec la comprehension de liste: {[i for i in nums if i < 0]}\")\n",
    "\n"
   ]
  },
  {
   "cell_type": "code",
   "execution_count": 21,
   "metadata": {},
   "outputs": [
    {
     "name": "stdout",
     "output_type": "stream",
     "text": [
      "Resultat sans la fonction reduce: 120\n",
      "Resultat avec la fonction reduce: 120\n"
     ]
    }
   ],
   "source": [
    "# Reduce\n",
    "\n",
    "# Reduce est une fonction très utile pour effectuer un calcul \n",
    "# sur une liste et renvoyer le résultat. Elle applique un calculà des paires séquentielles \n",
    "# de valeurs dans une liste. Par exemple, si vous voulez calculer le produit \n",
    "# d'une liste d'entiers.\n",
    "\n",
    "# importation de la fonction reduce\n",
    "from functools import reduce\n",
    "\n",
    "# Example:\n",
    "produit = 1\n",
    "list1 = [1, 2, 3, 4, 5]\n",
    "\n",
    "for num in list1:\n",
    "    produit = produit * num\n",
    "\n",
    "print(f\"Resultat sans la fonction reduce: {produit}\")\n",
    "\n",
    "produit = reduce(lambda x,y: x * y, list1)\n",
    "\n",
    "print(f\"Resultat avec la fonction reduce: {produit}\")\n",
    "\n"
   ]
  },
  {
   "cell_type": "code",
   "execution_count": null,
   "metadata": {},
   "outputs": [],
   "source": []
  }
 ],
 "metadata": {
  "kernelspec": {
   "display_name": "Python 3.9.13 ('base')",
   "language": "python",
   "name": "python3"
  },
  "language_info": {
   "codemirror_mode": {
    "name": "ipython",
    "version": 3
   },
   "file_extension": ".py",
   "mimetype": "text/x-python",
   "name": "python",
   "nbconvert_exporter": "python",
   "pygments_lexer": "ipython3",
   "version": "3.9.13"
  },
  "orig_nbformat": 4,
  "vscode": {
   "interpreter": {
    "hash": "008232c7f752b4bfbc5b6c79b4f62e23b2215da028cf0ac285ff8b68ead743c6"
   }
  }
 },
 "nbformat": 4,
 "nbformat_minor": 2
}
